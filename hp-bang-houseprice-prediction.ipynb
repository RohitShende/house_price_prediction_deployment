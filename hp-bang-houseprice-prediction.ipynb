{
 "cells": [
  {
   "cell_type": "code",
   "execution_count": 1,
   "metadata": {},
   "outputs": [
    {
     "output_type": "execute_result",
     "data": {
      "text/plain": [
       "      price       place                 built  sqft    sale  yearsOld  floor  \\\n",
       "0   6300000  BTM Layout  Super built-up  Area  1450  Resale         5      1   \n",
       "1  11500000   Yelahanka  Super built-up  Area  2190  Resale         5      3   \n",
       "2   3800000  Whitefield  Super built-up  Area  1019  Resale         1      2   \n",
       "3  10500000  Ambalipura  Super built-up  Area  1857  Resale        15      4   \n",
       "4  11500000   Yelahanka  Super built-up  Area  2190  Resale         5      3   \n",
       "\n",
       "   totalFloor  bhk  \n",
       "0           4    1  \n",
       "1           5    3  \n",
       "2           5    2  \n",
       "3           5    4  \n",
       "4           5    3  "
      ],
      "text/html": "<div>\n<style scoped>\n    .dataframe tbody tr th:only-of-type {\n        vertical-align: middle;\n    }\n\n    .dataframe tbody tr th {\n        vertical-align: top;\n    }\n\n    .dataframe thead th {\n        text-align: right;\n    }\n</style>\n<table border=\"1\" class=\"dataframe\">\n  <thead>\n    <tr style=\"text-align: right;\">\n      <th></th>\n      <th>price</th>\n      <th>place</th>\n      <th>built</th>\n      <th>sqft</th>\n      <th>sale</th>\n      <th>yearsOld</th>\n      <th>floor</th>\n      <th>totalFloor</th>\n      <th>bhk</th>\n    </tr>\n  </thead>\n  <tbody>\n    <tr>\n      <th>0</th>\n      <td>6300000</td>\n      <td>BTM Layout</td>\n      <td>Super built-up  Area</td>\n      <td>1450</td>\n      <td>Resale</td>\n      <td>5</td>\n      <td>1</td>\n      <td>4</td>\n      <td>1</td>\n    </tr>\n    <tr>\n      <th>1</th>\n      <td>11500000</td>\n      <td>Yelahanka</td>\n      <td>Super built-up  Area</td>\n      <td>2190</td>\n      <td>Resale</td>\n      <td>5</td>\n      <td>3</td>\n      <td>5</td>\n      <td>3</td>\n    </tr>\n    <tr>\n      <th>2</th>\n      <td>3800000</td>\n      <td>Whitefield</td>\n      <td>Super built-up  Area</td>\n      <td>1019</td>\n      <td>Resale</td>\n      <td>1</td>\n      <td>2</td>\n      <td>5</td>\n      <td>2</td>\n    </tr>\n    <tr>\n      <th>3</th>\n      <td>10500000</td>\n      <td>Ambalipura</td>\n      <td>Super built-up  Area</td>\n      <td>1857</td>\n      <td>Resale</td>\n      <td>15</td>\n      <td>4</td>\n      <td>5</td>\n      <td>4</td>\n    </tr>\n    <tr>\n      <th>4</th>\n      <td>11500000</td>\n      <td>Yelahanka</td>\n      <td>Super built-up  Area</td>\n      <td>2190</td>\n      <td>Resale</td>\n      <td>5</td>\n      <td>3</td>\n      <td>5</td>\n      <td>3</td>\n    </tr>\n  </tbody>\n</table>\n</div>"
     },
     "metadata": {},
     "execution_count": 1
    }
   ],
   "source": [
    "import pandas as pd\n",
    "data = pd.read_csv('hp_data.csv')\n",
    "data.head()"
   ]
  },
  {
   "cell_type": "code",
   "execution_count": 2,
   "metadata": {},
   "outputs": [
    {
     "output_type": "execute_result",
     "data": {
      "text/plain": [
       "0                 BTM Layout\n",
       "1                  Yelahanka\n",
       "2                 Whitefield\n",
       "3                 Ambalipura\n",
       "4                  Yelahanka\n",
       "                ...         \n",
       "3495              Whitefield\n",
       "3496              BTM Layout\n",
       "3497          Yelachenahalli\n",
       "3498    Abbaiah Reddy Layout\n",
       "3499              Whitefield\n",
       "Name: place, Length: 3500, dtype: object"
      ]
     },
     "metadata": {},
     "execution_count": 2
    }
   ],
   "source": [
    "data['place']"
   ]
  },
  {
   "cell_type": "code",
   "execution_count": 2,
   "metadata": {},
   "outputs": [
    {
     "output_type": "execute_result",
     "data": {
      "text/plain": [
       "      price  place                 built  sqft    sale  yearsOld  floor  \\\n",
       "0   6300000      2  Super built-up  Area  1450  Resale         5      1   \n",
       "1  11500000     14  Super built-up  Area  2190  Resale         5      3   \n",
       "2   3800000     12  Super built-up  Area  1019  Resale         1      2   \n",
       "3  10500000      1  Super built-up  Area  1857  Resale        15      4   \n",
       "4  11500000     14  Super built-up  Area  2190  Resale         5      3   \n",
       "\n",
       "   totalFloor  bhk  \n",
       "0           4    1  \n",
       "1           5    3  \n",
       "2           5    2  \n",
       "3           5    4  \n",
       "4           5    3  "
      ],
      "text/html": "<div>\n<style scoped>\n    .dataframe tbody tr th:only-of-type {\n        vertical-align: middle;\n    }\n\n    .dataframe tbody tr th {\n        vertical-align: top;\n    }\n\n    .dataframe thead th {\n        text-align: right;\n    }\n</style>\n<table border=\"1\" class=\"dataframe\">\n  <thead>\n    <tr style=\"text-align: right;\">\n      <th></th>\n      <th>price</th>\n      <th>place</th>\n      <th>built</th>\n      <th>sqft</th>\n      <th>sale</th>\n      <th>yearsOld</th>\n      <th>floor</th>\n      <th>totalFloor</th>\n      <th>bhk</th>\n    </tr>\n  </thead>\n  <tbody>\n    <tr>\n      <th>0</th>\n      <td>6300000</td>\n      <td>2</td>\n      <td>Super built-up  Area</td>\n      <td>1450</td>\n      <td>Resale</td>\n      <td>5</td>\n      <td>1</td>\n      <td>4</td>\n      <td>1</td>\n    </tr>\n    <tr>\n      <th>1</th>\n      <td>11500000</td>\n      <td>14</td>\n      <td>Super built-up  Area</td>\n      <td>2190</td>\n      <td>Resale</td>\n      <td>5</td>\n      <td>3</td>\n      <td>5</td>\n      <td>3</td>\n    </tr>\n    <tr>\n      <th>2</th>\n      <td>3800000</td>\n      <td>12</td>\n      <td>Super built-up  Area</td>\n      <td>1019</td>\n      <td>Resale</td>\n      <td>1</td>\n      <td>2</td>\n      <td>5</td>\n      <td>2</td>\n    </tr>\n    <tr>\n      <th>3</th>\n      <td>10500000</td>\n      <td>1</td>\n      <td>Super built-up  Area</td>\n      <td>1857</td>\n      <td>Resale</td>\n      <td>15</td>\n      <td>4</td>\n      <td>5</td>\n      <td>4</td>\n    </tr>\n    <tr>\n      <th>4</th>\n      <td>11500000</td>\n      <td>14</td>\n      <td>Super built-up  Area</td>\n      <td>2190</td>\n      <td>Resale</td>\n      <td>5</td>\n      <td>3</td>\n      <td>5</td>\n      <td>3</td>\n    </tr>\n  </tbody>\n</table>\n</div>"
     },
     "metadata": {},
     "execution_count": 2
    }
   ],
   "source": [
    "from sklearn.preprocessing import LabelEncoder\n",
    "enc = LabelEncoder()\n",
    "data.place = enc.fit_transform(data.place)\n",
    "data.head()"
   ]
  },
  {
   "cell_type": "code",
   "execution_count": 3,
   "metadata": {},
   "outputs": [
    {
     "output_type": "execute_result",
     "data": {
      "text/plain": [
       "                           0\n",
       "0       Abbaiah Reddy Layout\n",
       "1                 Ambalipura\n",
       "2                 BTM Layout\n",
       "3        Devarabeesana Halli\n",
       "4   Electronics City Phase 1\n",
       "5                Frazer Town\n",
       "6                     Gunjur\n",
       "7                   KR Puram\n",
       "8               Malleshwaram\n",
       "9               Rajaji Nagar\n",
       "10             Sarakki Nagar\n",
       "11            Subramanyapura\n",
       "12                Whitefield\n",
       "13            Yelachenahalli\n",
       "14                 Yelahanka"
      ],
      "text/html": "<div>\n<style scoped>\n    .dataframe tbody tr th:only-of-type {\n        vertical-align: middle;\n    }\n\n    .dataframe tbody tr th {\n        vertical-align: top;\n    }\n\n    .dataframe thead th {\n        text-align: right;\n    }\n</style>\n<table border=\"1\" class=\"dataframe\">\n  <thead>\n    <tr style=\"text-align: right;\">\n      <th></th>\n      <th>0</th>\n    </tr>\n  </thead>\n  <tbody>\n    <tr>\n      <th>0</th>\n      <td>Abbaiah Reddy Layout</td>\n    </tr>\n    <tr>\n      <th>1</th>\n      <td>Ambalipura</td>\n    </tr>\n    <tr>\n      <th>2</th>\n      <td>BTM Layout</td>\n    </tr>\n    <tr>\n      <th>3</th>\n      <td>Devarabeesana Halli</td>\n    </tr>\n    <tr>\n      <th>4</th>\n      <td>Electronics City Phase 1</td>\n    </tr>\n    <tr>\n      <th>5</th>\n      <td>Frazer Town</td>\n    </tr>\n    <tr>\n      <th>6</th>\n      <td>Gunjur</td>\n    </tr>\n    <tr>\n      <th>7</th>\n      <td>KR Puram</td>\n    </tr>\n    <tr>\n      <th>8</th>\n      <td>Malleshwaram</td>\n    </tr>\n    <tr>\n      <th>9</th>\n      <td>Rajaji Nagar</td>\n    </tr>\n    <tr>\n      <th>10</th>\n      <td>Sarakki Nagar</td>\n    </tr>\n    <tr>\n      <th>11</th>\n      <td>Subramanyapura</td>\n    </tr>\n    <tr>\n      <th>12</th>\n      <td>Whitefield</td>\n    </tr>\n    <tr>\n      <th>13</th>\n      <td>Yelachenahalli</td>\n    </tr>\n    <tr>\n      <th>14</th>\n      <td>Yelahanka</td>\n    </tr>\n  </tbody>\n</table>\n</div>"
     },
     "metadata": {},
     "execution_count": 3
    }
   ],
   "source": [
    "pd.DataFrame(enc.classes_)"
   ]
  },
  {
   "cell_type": "code",
   "execution_count": 4,
   "metadata": {},
   "outputs": [],
   "source": [
    "X = data.loc[:,['sqft','place','yearsOld','totalFloor','bhk']]\n",
    "y = data.price"
   ]
  },
  {
   "cell_type": "code",
   "execution_count": 5,
   "metadata": {},
   "outputs": [],
   "source": [
    "from sklearn.linear_model import LinearRegression\n",
    "model = LinearRegression()"
   ]
  },
  {
   "cell_type": "markdown",
   "metadata": {},
   "source": [
    "## Model Evaluation"
   ]
  },
  {
   "cell_type": "code",
   "execution_count": 6,
   "metadata": {},
   "outputs": [],
   "source": [
    "from sklearn.model_selection import train_test_split\n",
    "X_train, X_test, y_train, y_test = train_test_split(X,y,\n",
    "                                    test_size=0.3,random_state=10)"
   ]
  },
  {
   "cell_type": "code",
   "execution_count": 7,
   "metadata": {},
   "outputs": [
    {
     "output_type": "execute_result",
     "data": {
      "text/plain": [
       "LinearRegression()"
      ]
     },
     "metadata": {},
     "execution_count": 7
    }
   ],
   "source": [
    "from sklearn.linear_model import LinearRegression\n",
    "model = LinearRegression()\n",
    "model.fit(X_train, y_train)"
   ]
  },
  {
   "cell_type": "code",
   "execution_count": 8,
   "metadata": {},
   "outputs": [],
   "source": [
    "y_predict = model.predict(X_test)"
   ]
  },
  {
   "cell_type": "code",
   "execution_count": 9,
   "metadata": {},
   "outputs": [
    {
     "output_type": "execute_result",
     "data": {
      "text/plain": [
       "0.8560640099843071"
      ]
     },
     "metadata": {},
     "execution_count": 9
    }
   ],
   "source": [
    "from sklearn.metrics import r2_score\n",
    "r2_score(y_test,y_predict)"
   ]
  },
  {
   "cell_type": "markdown",
   "metadata": {},
   "source": [
    "# Exporting Model"
   ]
  },
  {
   "cell_type": "code",
   "execution_count": 10,
   "metadata": {},
   "outputs": [
    {
     "output_type": "execute_result",
     "data": {
      "text/plain": [
       "['house_price_prediction_trained_model.pkl']"
      ]
     },
     "metadata": {},
     "execution_count": 10
    }
   ],
   "source": [
    "import joblib\n",
    "joblib.dump(model,'house_price_prediction_trained_model.pkl') # .pkl pickle"
   ]
  },
  {
   "cell_type": "code",
   "execution_count": null,
   "metadata": {},
   "outputs": [],
   "source": []
  },
  {
   "cell_type": "raw",
   "metadata": {},
   "source": [
    "http://127.0.0.1:5000/predict?sqft=1500&place=2&yo=5&tf=10&bhk=3"
   ]
  },
  {
   "cell_type": "code",
   "execution_count": null,
   "metadata": {},
   "outputs": [],
   "source": []
  },
  {
   "cell_type": "code",
   "execution_count": null,
   "metadata": {},
   "outputs": [],
   "source": []
  },
  {
   "cell_type": "markdown",
   "metadata": {},
   "source": [
    "# Testing Imported Model"
   ]
  },
  {
   "cell_type": "code",
   "execution_count": 11,
   "metadata": {},
   "outputs": [],
   "source": [
    "import joblib"
   ]
  },
  {
   "cell_type": "code",
   "execution_count": 12,
   "metadata": {},
   "outputs": [],
   "source": [
    "model = joblib.load('house_price_prediction_trained_model.pkl')"
   ]
  },
  {
   "cell_type": "code",
   "execution_count": 13,
   "metadata": {},
   "outputs": [
    {
     "output_type": "execute_result",
     "data": {
      "text/plain": [
       "LinearRegression()"
      ]
     },
     "metadata": {},
     "execution_count": 13
    }
   ],
   "source": [
    "model"
   ]
  },
  {
   "cell_type": "code",
   "execution_count": 14,
   "metadata": {},
   "outputs": [
    {
     "output_type": "execute_result",
     "data": {
      "text/plain": [
       "array([16263956.81338172])"
      ]
     },
     "metadata": {},
     "execution_count": 14
    }
   ],
   "source": [
    "model.predict([[1500,2,5,10,3]])"
   ]
  },
  {
   "cell_type": "code",
   "execution_count": null,
   "metadata": {},
   "outputs": [],
   "source": []
  }
 ],
 "metadata": {
  "kernelspec": {
   "name": "python385jvsc74a57bd012a47ebc48a07275a2dc5796c0796ca67013e463ff516090f97ecf72f75c770a",
   "display_name": "Python 3.8.5 64-bit ('base': conda)"
  },
  "language_info": {
   "codemirror_mode": {
    "name": "ipython",
    "version": 3
   },
   "file_extension": ".py",
   "mimetype": "text/x-python",
   "name": "python",
   "nbconvert_exporter": "python",
   "pygments_lexer": "ipython3",
   "version": "3.8.5-final"
  },
  "metadata": {
   "interpreter": {
    "hash": "12a47ebc48a07275a2dc5796c0796ca67013e463ff516090f97ecf72f75c770a"
   }
  }
 },
 "nbformat": 4,
 "nbformat_minor": 2
}